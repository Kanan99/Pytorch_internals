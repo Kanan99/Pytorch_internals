{
  "nbformat": 4,
  "nbformat_minor": 0,
  "metadata": {
    "colab": {
      "provenance": []
    },
    "kernelspec": {
      "name": "python3",
      "display_name": "Python 3"
    },
    "language_info": {
      "name": "python"
    }
  },
  "cells": [
    {
      "cell_type": "code",
      "execution_count": 25,
      "metadata": {
        "colab": {
          "base_uri": "https://localhost:8080/"
        },
        "id": "ht6TZwVFt9ZU",
        "outputId": "6742c68d-3ea1-42a8-cc18-4701c142c63f"
      },
      "outputs": [
        {
          "output_type": "stream",
          "name": "stdout",
          "text": [
            "PyTorch version: 2.6.0+cu124\n",
            "Basic tensor:\n",
            "tensor([[1., 2.],\n",
            "        [3., 4.]])\n",
            "Shape: torch.Size([2, 2])\n",
            "Dtype: torch.float32\n",
            "Device: cpu\n",
            "Strides: (2, 1)\n",
            "\n",
            "Second row as view:\n",
            "tensor([3., 4.])\n",
            "Is row sharing storage with original? True\n",
            "\n",
            "\n",
            "************************************************************\n",
            "\n",
            "First column as view:\n",
            "tensor([1., 3.])\n",
            "Column strides: (2,)\n",
            "\n",
            "\n",
            "************************************************************\n",
            "\n",
            "Storage details:\n",
            "Storage size: 4\n",
            "Storage element size: 4 bytes\n",
            "Storage type: <class 'torch.FloatStorage'>\n"
          ]
        }
      ],
      "source": [
        "import torch\n",
        "import numpy as np\n",
        "import matplotlib.pyplot as plt\n",
        "from torch.utils.cpp_extension import load\n",
        "import time\n",
        "\n",
        "print(f\"PyTorch version: {torch.__version__}\")\n",
        "\n",
        "# ============== SECTION 1: TENSOR BASICS AND STRIDES ==============\n",
        "\n",
        "# 1.1 Understanding Tensor Structure\n",
        "# Tensors are the central data structure in PyTorch, consisting of:\n",
        "# - Data: The actual values\n",
        "# - Metadata: size, dtype, device, strides, etc.\n",
        "\n",
        "# Create a simple 2x2 tensor\n",
        "tensor = torch.tensor([[1, 2], [3, 4]], dtype=torch.float32)\n",
        "print(\"Basic tensor:\")\n",
        "print(tensor)\n",
        "print(f\"Shape: {tensor.shape}\")\n",
        "print(f\"Dtype: {tensor.dtype}\")\n",
        "print(f\"Device: {tensor.device}\")\n",
        "\n",
        "# 1.2 Understanding Strides - One of PyTorch's distinctive features\n",
        "# Strides tell how many elements to skip to get to the next element in each dimension\n",
        "print(f\"Strides: {tensor.stride()}\")  # Typically (stride[0]=2, stride[1]=1) for a 2x2 contiguous tensor\n",
        "\n",
        "# https://discuss.pytorch.org/t/contigious-vs-non-contigious-tensor/30107\n",
        "# https://medium.com/analytics-vidhya/pytorch-contiguous-vs-non-contiguous-tensor-view-understanding-view-reshape-73e10cdfa0dd\n",
        "\n",
        "# 1.3 Views and Strides\n",
        "# Views create new tensors that share the same underlying storage\n",
        "# They just modify the metadata (size, strides, offset) without copying data\n",
        "row = tensor[1, :]  # Get second row\n",
        "print(\"\\nSecond row as view:\")\n",
        "print(row)\n",
        "print(f\"Is row sharing storage with original? {row.storage().data_ptr() == tensor.storage().data_ptr()}\")\n",
        "\n",
        "print(\"\\n\")\n",
        "print( \"*\" * 60)\n",
        "\n",
        "# Column view - note how strides change\n",
        "col = tensor[:, 0]  # Get first column\n",
        "print(\"\\nFirst column as view:\")\n",
        "print(col)\n",
        "print(f\"Column strides: {col.stride()}\")  # Stride is 2 because we need to jump 2 elements to get the next item in the column\n",
        "\n",
        "\n",
        "print(\"\\n\")\n",
        "print( \"*\" * 60)\n",
        "\n",
        "# 1.4 Storage concept - decouples tensor from physical memory\n",
        "# A tensor is a view on a storage with size, stride, and offset metadata\n",
        "print(\"\\nStorage details:\")\n",
        "print(f\"Storage size: {tensor.storage().size()}\")\n",
        "print(f\"Storage element size: {tensor.element_size()} bytes\")\n",
        "print(f\"Storage type: {tensor.storage_type()}\")\n",
        "\n"
      ]
    },
    {
      "cell_type": "code",
      "source": [
        "# ============== SECTION 2: TENSOR OPERATIONS AND DISPATCH ==============\n",
        "\n",
        "# 2.1 Operation Dispatching\n",
        "# Operations in PyTorch follow a two-level dispatch:\n",
        "# 1. Device type/layout (CPU, CUDA, Sparse, etc.) - dynamic dispatch via virtual methods\n",
        "# 2. Dtype (float, int, etc.) - static dispatch via switch statements\n",
        "\n",
        "# Example of operation that will dispatch based on device and dtype\n",
        "a = torch.ones(3, 3)\n",
        "b = torch.ones(3, 3)\n",
        "c = torch.matmul(a, b)\n",
        "\n",
        "print(\"\\nOperation dispatching example:\")\n",
        "print(f\"Input devices: {a.device}, {b.device}\")\n",
        "print(f\"Input dtypes: {a.dtype}, {b.dtype}\")\n",
        "print(f\"Result: {c}\")\n",
        "\n",
        "# Moving to CUDA changes the dispatch path (if available)\n",
        "if torch.cuda.is_available():\n",
        "    a_cuda = a.cuda()\n",
        "    b_cuda = b.cuda()\n",
        "    c_cuda = torch.matmul(a_cuda, b_cuda)\n",
        "    print(f\"CUDA tensors: {a_cuda.device}, result shape: {c_cuda.shape}\")\n",
        "    # Brings back to CPU\n",
        "    a_cuda = a_cuda.cpu()\n",
        "\n"
      ],
      "metadata": {
        "colab": {
          "base_uri": "https://localhost:8080/"
        },
        "id": "3swyqj4-u5WM",
        "outputId": "89ef08a0-0f91-43c3-f214-480783d79bc2"
      },
      "execution_count": 4,
      "outputs": [
        {
          "output_type": "stream",
          "name": "stdout",
          "text": [
            "\n",
            "Operation dispatching example:\n",
            "Input devices: cpu, cpu\n",
            "Input dtypes: torch.float32, torch.float32\n",
            "Result: tensor([[3., 3., 3.],\n",
            "        [3., 3., 3.],\n",
            "        [3., 3., 3.]])\n"
          ]
        }
      ]
    },
    {
      "cell_type": "code",
      "source": [
        "# ============== SECTION 3: CREATING AN OPERATOR ==============\n",
        "\n",
        "# Implementing a simple custom operation\n",
        "# Note: Here we're showing a simplified version of what happens in PyTorch C++ code\n",
        "\n",
        "def my_elementwise_add(tensor1, tensor2, alpha=1):\n",
        "    \"\"\"\n",
        "    Demonstrates the structure of a PyTorch operator\n",
        "    This mirrors how it would be structured in the C++ codebase\n",
        "    \"\"\"\n",
        "    # 1. Error checking\n",
        "    assert tensor1.device == tensor2.device, \"Expected tensors on same device\"\n",
        "    assert tensor1.dtype == tensor2.dtype, \"Expected same dtype\"\n",
        "    assert tensor1.shape == tensor2.shape, \"Expected same shape\"\n",
        "\n",
        "    # 2. Result allocation\n",
        "    result = torch.empty_like(tensor1)\n",
        "\n",
        "    # 3. Dispatch based on device\n",
        "    if tensor1.is_cuda:\n",
        "        print(\"Would dispatch to CUDA implementation\")\n",
        "        # In C++: call CUDA kernel\n",
        "        result = tensor1 + alpha * tensor2  # Using PyTorch's implementation\n",
        "    else:\n",
        "        print(\"Dispatching to CPU implementation\")\n",
        "        # In real implementation, we would dispatch to different dtype implementations\n",
        "        # We simulate how it would be structured\n",
        "        if tensor1.dtype == torch.float32:\n",
        "            # CPU float32 implementation\n",
        "            result = tensor1 + alpha * tensor2\n",
        "        elif tensor1.dtype == torch.int64:\n",
        "            # CPU int64 implementation\n",
        "            result = tensor1 + alpha * tensor2\n",
        "        else:\n",
        "            # Other dtype implementations\n",
        "            result = tensor1 + alpha * tensor2\n",
        "\n",
        "    return result\n",
        "\n",
        "# Test our custom operation\n",
        "a = torch.tensor([1, 2, 3], dtype=torch.float32)\n",
        "b = torch.tensor([4, 5, 6], dtype=torch.float32)\n",
        "result = my_elementwise_add(a, b, alpha=2)\n",
        "print(\"\\nCustom operation result:\")\n",
        "print(result)  # Should be [9, 12, 15]\n",
        "\n"
      ],
      "metadata": {
        "colab": {
          "base_uri": "https://localhost:8080/"
        },
        "id": "L6iWnme9BmSS",
        "outputId": "d3fbdb41-3eb2-4a14-8cef-c504a44dcb31"
      },
      "execution_count": 5,
      "outputs": [
        {
          "output_type": "stream",
          "name": "stdout",
          "text": [
            "Dispatching to CPU implementation\n",
            "\n",
            "Custom operation result:\n",
            "tensor([ 9., 12., 15.])\n"
          ]
        }
      ]
    },
    {
      "cell_type": "code",
      "source": [
        "# ============== SECTION 4: TENSOR ACCESSORS AND ITERATORS ==============\n",
        "\n",
        "def demonstrate_tensor_access_patterns():\n",
        "    \"\"\"\n",
        "    Demonstrates different ways to access tensor data as explained in the document\n",
        "    \"\"\"\n",
        "    # Create a 2x3 tensor\n",
        "    tensor = torch.tensor([[1, 2, 3],\n",
        "                           [4, 5, 6]], dtype=torch.float32)\n",
        "\n",
        "    # Method 1: Element-by-element access (slowest, but most straightforward)\n",
        "    print(\"\\nElement access demonstration:\")\n",
        "    for i in range(tensor.shape[0]):\n",
        "        for j in range(tensor.shape[1]):\n",
        "            print(f\"tensor[{i}, {j}] = {tensor[i, j]}\")\n",
        "\n",
        "    # Method 2: Using numpy-like indexing (more Pythonic)\n",
        "    print(\"\\nNumpy-like indexing:\")\n",
        "    print(f\"First row: {tensor[0, :]}\")\n",
        "    print(f\"Second column: {tensor[:, 1]}\")\n",
        "\n",
        "\n",
        "    print(\"\\n\")\n",
        "    print( \"*\" * 60)\n",
        "\n",
        "\n",
        "    # Method 3: Using .item() for single elements\n",
        "    print(\"\\nUsing .item():\")\n",
        "    print(f\"First element as Python scalar: {tensor[0, 0].item()}\")\n",
        "\n",
        "\n",
        "\n",
        "    print(\"\\n\")\n",
        "    print( \"*\" * 60)\n",
        "\n",
        "    # Method 4: Converting to numpy (for interoperability)\n",
        "    np_array = tensor.numpy()\n",
        "    print(\"\\nConverted to numpy:\")\n",
        "    print(np_array)\n",
        "\n",
        "\n",
        "\n",
        "    print(\"\\n\")\n",
        "    print( \"*\" * 60)\n",
        "\n",
        "\n",
        "    # Method 5: Vectorized operations (most efficient for bulk operations)\n",
        "    print(\"\\nVectorized operations:\")\n",
        "    result = tensor * 2 + 1\n",
        "    print(result)\n",
        "\n",
        "# Run the demonstration\n",
        "demonstrate_tensor_access_patterns()\n",
        "\n"
      ],
      "metadata": {
        "colab": {
          "base_uri": "https://localhost:8080/"
        },
        "id": "fMlCrj5KBsM8",
        "outputId": "e6f8e8ae-8e1d-4292-ad44-d704ce230646"
      },
      "execution_count": 23,
      "outputs": [
        {
          "output_type": "stream",
          "name": "stdout",
          "text": [
            "\n",
            "Element access demonstration:\n",
            "tensor[0, 0] = 1.0\n",
            "tensor[0, 1] = 2.0\n",
            "tensor[0, 2] = 3.0\n",
            "tensor[1, 0] = 4.0\n",
            "tensor[1, 1] = 5.0\n",
            "tensor[1, 2] = 6.0\n",
            "\n",
            "Numpy-like indexing:\n",
            "First row: tensor([1., 2., 3.])\n",
            "Second column: tensor([2., 5.])\n",
            "\n",
            "\n",
            "************************************************************\n",
            "\n",
            "Using .item():\n",
            "First element as Python scalar: 1.0\n",
            "\n",
            "\n",
            "************************************************************\n",
            "\n",
            "Converted to numpy:\n",
            "[[1. 2. 3.]\n",
            " [4. 5. 6.]]\n",
            "\n",
            "\n",
            "************************************************************\n",
            "\n",
            "Vectorized operations:\n",
            "tensor([[ 3.,  5.,  7.],\n",
            "        [ 9., 11., 13.]])\n"
          ]
        }
      ]
    },
    {
      "cell_type": "code",
      "source": [
        "# ============== SECTION 5: AUTOGRAD MECHANISM ==============\n",
        "\n",
        "def demonstrate_autograd():\n",
        "    \"\"\"\n",
        "    Demonstrates how PyTorch's autograd works\n",
        "    This mirrors the explanation in the document about computing gradients\n",
        "    \"\"\"\n",
        "    print(\"\\nAutograd demonstration:\")\n",
        "\n",
        "    # Create tensors with grad tracking\n",
        "    W_x = torch.tensor([[0.1, 0.2]], requires_grad=True)  # 1x2\n",
        "    x = torch.tensor([[1.0], [2.0]], requires_grad=True)  # 2x1\n",
        "    W_h = torch.tensor([[0.3]], requires_grad=True)       # 1x1\n",
        "    prev_h = torch.tensor([[0.5]], requires_grad=True)    # 1x1\n",
        "\n",
        "    # Forward pass (similar to the RNN example in the document)\n",
        "    i2h = torch.mm(W_x, x)                                # Input to hidden\n",
        "    h2h = torch.mm(W_h, prev_h)                           # Hidden to hidden\n",
        "    next_h = i2h + h2h                                    # Next hidden state\n",
        "    next_h = torch.tanh(next_h)                           # Apply activation\n",
        "    loss = next_h.sum()                                   # Loss function\n",
        "\n",
        "    print(\"Forward pass values:\")\n",
        "    print(f\"i2h: {i2h}\")\n",
        "    print(f\"h2h: {h2h}\")\n",
        "    print(f\"next_h before tanh: {i2h + h2h}\")\n",
        "    print(f\"next_h after tanh: {next_h}\")\n",
        "    print(f\"loss: {loss}\")\n",
        "\n",
        "    # Backward pass\n",
        "    loss.backward()\n",
        "\n",
        "    print(\"\\n\")\n",
        "    print( \"*\" * 60)\n",
        "    print(\"\\nGradients after backward pass:\")\n",
        "    print(f\"W_x.grad: {W_x.grad}\")\n",
        "    print(f\"x.grad: {x.grad}\")\n",
        "    print(f\"W_h.grad: {W_h.grad}\")\n",
        "    print(f\"prev_h.grad: {prev_h.grad}\")\n",
        "    print('-'*20)\n",
        "\n",
        "    # This is what happens behind the scenes:\n",
        "    # 1. PyTorch builds a computation graph during forward pass\n",
        "    # 2. Each operation has a corresponding backward function\n",
        "    # 3. Autograd engine traverses this graph backwards to compute gradients\n",
        "    # 4. Results are stored in .grad attributes of tensors\n",
        "\n",
        "demonstrate_autograd()\n",
        "\n"
      ],
      "metadata": {
        "colab": {
          "base_uri": "https://localhost:8080/"
        },
        "id": "CXgC4poEBudH",
        "outputId": "6bf4b99c-f1ec-415c-a84a-0cfc37d014b4"
      },
      "execution_count": 22,
      "outputs": [
        {
          "output_type": "stream",
          "name": "stdout",
          "text": [
            "\n",
            "Autograd demonstration:\n",
            "Forward pass values:\n",
            "i2h: tensor([[0.5000]], grad_fn=<MmBackward0>)\n",
            "h2h: tensor([[0.1500]], grad_fn=<MmBackward0>)\n",
            "next_h before tanh: tensor([[0.6500]], grad_fn=<AddBackward0>)\n",
            "next_h after tanh: tensor([[0.5717]], grad_fn=<TanhBackward0>)\n",
            "loss: 0.5716699361801147\n",
            "\n",
            "\n",
            "************************************************************\n",
            "\n",
            "Gradients after backward pass:\n",
            "W_x.grad: tensor([[0.6732, 1.3464]])\n",
            "x.grad: tensor([[0.0673],\n",
            "        [0.1346]])\n",
            "W_h.grad: tensor([[0.3366]])\n",
            "prev_h.grad: tensor([[0.2020]])\n",
            "--------------------\n"
          ]
        }
      ]
    },
    {
      "cell_type": "code",
      "source": [
        "# ============== SECTION 6: CODEBASE STRUCTURE ==============\n",
        "\n",
        "\n",
        "\n",
        "def codebase_structure_guide():\n",
        "    \"\"\"\n",
        "    Guide to PyTorch's codebase structure as explained in the document\n",
        "    \"\"\"\n",
        "    print(\"\\nPyTorch Codebase Structure Guide:\")\n",
        "\n",
        "    structure = {\n",
        "        \"torch/\": \"Python modules (frontend)\",\n",
        "        \"torch/csrc/\": \"C++ code, Python bindings, autograd, JIT\",\n",
        "        \"aten/\": \"A TENsor library - core tensor operations\",\n",
        "        \"aten/src/ATen/native/\": \"Modern C++ implementations\",\n",
        "        \"aten/src/ATen/TH, THC, etc.\": \"Legacy C implementations\",\n",
        "        \"c10/\": \"Core abstractions (TensorImpl, etc.)\"\n",
        "    }\n",
        "\n",
        "    for path, description in structure.items():\n",
        "        print(f\"{path:<25} {description}\")\n",
        "\n",
        "    print(\"\\n\")\n",
        "    print( \"*\" * 60)\n",
        "\n",
        "    print(\"\\nKey files for understanding dispatching:\")\n",
        "    dispatch_files = [\n",
        "        \"torch/csrc/autograd/generated/python_torch_functions.cpp\",\n",
        "        \"torch/csrc/autograd/VariableType.cpp\",\n",
        "        \"aten/src/ATen/TypeDefault.cpp\",\n",
        "        \"aten/src/ATen/native/BinaryOps.cpp\"\n",
        "    ]\n",
        "\n",
        "    for file in dispatch_files:\n",
        "        print(f\"- {file}\")\n",
        "\n",
        "codebase_structure_guide()\n",
        "\n"
      ],
      "metadata": {
        "colab": {
          "base_uri": "https://localhost:8080/"
        },
        "id": "dpdGN_DqBw1_",
        "outputId": "30f9ac99-f916-4a86-b7dc-61ca8f381631"
      },
      "execution_count": 21,
      "outputs": [
        {
          "output_type": "stream",
          "name": "stdout",
          "text": [
            "\n",
            "PyTorch Codebase Structure Guide:\n",
            "torch/                    Python modules (frontend)\n",
            "torch/csrc/               C++ code, Python bindings, autograd, JIT\n",
            "aten/                     A TENsor library - core tensor operations\n",
            "aten/src/ATen/native/     Modern C++ implementations\n",
            "aten/src/ATen/TH, THC, etc. Legacy C implementations\n",
            "c10/                      Core abstractions (TensorImpl, etc.)\n",
            "\n",
            "\n",
            "************************************************************\n",
            "\n",
            "Key files for understanding dispatching:\n",
            "- torch/csrc/autograd/generated/python_torch_functions.cpp\n",
            "- torch/csrc/autograd/VariableType.cpp\n",
            "- aten/src/ATen/TypeDefault.cpp\n",
            "- aten/src/ATen/native/BinaryOps.cpp\n"
          ]
        }
      ]
    },
    {
      "cell_type": "code",
      "source": [
        "\n",
        "# ============== SECTION 7: WORKFLOW EFFICIENCY TIPS ==============\n",
        "\n",
        "def workflow_efficiency_tips():\n",
        "    \"\"\"\n",
        "    Practical tips for efficiently working with PyTorch's codebase\n",
        "    \"\"\"\n",
        "    print(\"\\nWorkflow Efficiency Tips:\")\n",
        "\n",
        "    tips = [\n",
        "        \"Don't edit headers frequently - they cause long rebuilds\",\n",
        "        \"Avoid testing only via CI - setup a local development environment\",\n",
        "        \"Set up ccache to speed up rebuilds\",\n",
        "        \"Use a powerful workstation for builds, especially for CUDA\",\n",
        "        \"Modify .cpp files instead of headers when possible\",\n",
        "        \"Consider porting legacy TH code to ATen when you can\",\n",
        "        \"Use precompiled debug builds to step through code paths\"\n",
        "    ]\n",
        "\n",
        "    for i, tip in enumerate(tips, 1):\n",
        "        print(f\"{i}. {tip}\")\n",
        "\n",
        "workflow_efficiency_tips()\n",
        "\n"
      ],
      "metadata": {
        "colab": {
          "base_uri": "https://localhost:8080/"
        },
        "id": "DTpISTOUB5SE",
        "outputId": "84d037d9-c8ea-48f0-d6c6-47f2566999db"
      },
      "execution_count": 9,
      "outputs": [
        {
          "output_type": "stream",
          "name": "stdout",
          "text": [
            "\n",
            "Workflow Efficiency Tips:\n",
            "1. Don't edit headers frequently - they cause long rebuilds\n",
            "2. Avoid testing only via CI - setup a local development environment\n",
            "3. Set up ccache to speed up rebuilds\n",
            "4. Use a powerful workstation for builds, especially for CUDA\n",
            "5. Modify .cpp files instead of headers when possible\n",
            "6. Consider porting legacy TH code to ATen when you can\n",
            "7. Use precompiled debug builds to step through code paths\n"
          ]
        }
      ]
    },
    {
      "cell_type": "code",
      "source": [
        "# ============== SECTION 8: EXTENSION POINTS ==============\n",
        "\n",
        "def tensor_extension_points():\n",
        "    \"\"\"\n",
        "    Demonstrates the extension points in PyTorch tensors\n",
        "    \"\"\"\n",
        "    print(\"\\nTensor Extension Points:\")\n",
        "\n",
        "    # The \"trinity\" of extension points:\n",
        "    trinity = {\n",
        "        \"device\": \"Where the tensor lives (CPU, CUDA, etc.) - has its own allocator\",\n",
        "        \"layout\": \"How data is logically interpreted (strided, sparse, etc.)\",\n",
        "        \"dtype\": \"Data type of elements (float, int, qint8, etc.)\"\n",
        "    }\n",
        "\n",
        "    for point, description in trinity.items():\n",
        "        print(f\"{point:<10} {description}\")\n",
        "\n",
        "    # Examples of built-in implementations:\n",
        "    print(\"\\nExamples of existing implementations:\")\n",
        "\n",
        "    devices = [\"cpu\", \"cuda\", \"xla\", \"mps\"]\n",
        "    layouts = [\"strided\", \"sparse\", \"sparse_csr\"]\n",
        "    dtypes = [\"float32\", \"float16\", \"int64\", \"bool\", \"quint8\"]\n",
        "\n",
        "    print(f\"Devices: {', '.join(devices)}\")\n",
        "    print(f\"Layouts: {', '.join(layouts)}\")\n",
        "    print(f\"Dtypes: {', '.join(dtypes)}\")\n",
        "\n",
        "    print(\"\\nNot all combinations have kernels implemented!\")\n",
        "\n",
        "tensor_extension_points()\n",
        "\n"
      ],
      "metadata": {
        "colab": {
          "base_uri": "https://localhost:8080/"
        },
        "id": "kwzUP0gbB97h",
        "outputId": "b56a0973-a9fd-49fa-d769-66d41c04ffbb"
      },
      "execution_count": 10,
      "outputs": [
        {
          "output_type": "stream",
          "name": "stdout",
          "text": [
            "\n",
            "Tensor Extension Points:\n",
            "device     Where the tensor lives (CPU, CUDA, etc.) - has its own allocator\n",
            "layout     How data is logically interpreted (strided, sparse, etc.)\n",
            "dtype      Data type of elements (float, int, qint8, etc.)\n",
            "\n",
            "Examples of existing implementations:\n",
            "Devices: cpu, cuda, xla, mps\n",
            "Layouts: strided, sparse, sparse_csr\n",
            "Dtypes: float32, float16, int64, bool, quint8\n",
            "\n",
            "Not all combinations have kernels implemented!\n"
          ]
        }
      ]
    },
    {
      "cell_type": "code",
      "source": [
        "# ============== BONUS: VISUALIZING TENSOR STRIDES ==============\n",
        "\n",
        "def visualize_strides():\n",
        "    \"\"\"\n",
        "    Creates a visual representation of stride concepts\n",
        "    \"\"\"\n",
        "    # Create a 2x3 tensor\n",
        "    tensor = torch.tensor([[1, 2, 3],\n",
        "                          [4, 5, 6]], dtype=torch.float32)\n",
        "\n",
        "    print(\"\\nStride visualization:\")\n",
        "    print(f\"Tensor shape: {tensor.shape}\")\n",
        "    print(f\"Tensor strides: {tensor.stride()}\")\n",
        "\n",
        "    # Physical representation in memory (contiguous)\n",
        "    physical = tensor.storage()\n",
        "\n",
        "    # Visualize the relationship\n",
        "    fig, (ax1, ax2) = plt.subplots(1, 2, figsize=(10, 3))\n",
        "\n",
        "    # Logical view (2D)\n",
        "    ax1.set_title(\"Logical View (2D)\")\n",
        "    ax1.imshow(tensor.numpy(), cmap='viridis')\n",
        "    for i in range(tensor.shape[0]):\n",
        "        for j in range(tensor.shape[1]):\n",
        "            ax1.text(j, i, f\"{tensor[i, j]:.0f}\", ha=\"center\", va=\"center\", color=\"w\")\n",
        "    ax1.set_xticks(range(tensor.shape[1]))\n",
        "    ax1.set_yticks(range(tensor.shape[0]))\n",
        "\n",
        "    # Physical view (1D storage)\n",
        "    ax2.set_title(\"Physical Storage (1D)\")\n",
        "    physical_arr = np.array([physical[i] for i in range(physical.size())])\n",
        "    ax2.barh(range(len(physical_arr)), physical_arr, color='purple')\n",
        "    for i, val in enumerate(physical_arr):\n",
        "        ax2.text(val/2, i, f\"{val:.0f}\", ha=\"center\", va=\"center\", color=\"w\")\n",
        "    ax2.set_yticks(range(len(physical_arr)))\n",
        "    ax2.set_yticklabels([f\"0x{i*4}\" for i in range(len(physical_arr))])\n",
        "    ax2.set_ylabel(\"Memory offset\")\n",
        "\n",
        "    plt.tight_layout()\n",
        "\n",
        "    # Show transposed view to demonstrate stride changes\n",
        "    transposed = tensor.t()\n",
        "    print(f\"\\nTransposed tensor strides: {transposed.stride()}\")\n",
        "    print(\"Notice how strides are swapped after transpose.\")\n",
        "\n",
        "visualize_strides()"
      ],
      "metadata": {
        "colab": {
          "base_uri": "https://localhost:8080/",
          "height": 428
        },
        "id": "9Jk_sfGXB_Pd",
        "outputId": "177ee94c-d539-4d48-9db6-0147c5e13f9f"
      },
      "execution_count": 13,
      "outputs": [
        {
          "output_type": "stream",
          "name": "stdout",
          "text": [
            "\n",
            "Stride visualization:\n",
            "Tensor shape: torch.Size([2, 3])\n",
            "Tensor strides: (3, 1)\n",
            "\n",
            "Transposed tensor strides: (1, 3)\n",
            "Notice how strides are swapped after transpose.\n"
          ]
        },
        {
          "output_type": "display_data",
          "data": {
            "text/plain": [
              "<Figure size 1000x300 with 2 Axes>"
            ],
            "image/png": "[encoded data removed]"
          },
          "metadata": {}
        }
      ]
    },
    {
      "cell_type": "code",
      "source": [],
      "metadata": {
        "id": "DGCzZH89B_c3"
      },
      "execution_count": null,
      "outputs": []
    }
  ]
}